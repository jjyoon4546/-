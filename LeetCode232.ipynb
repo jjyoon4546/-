{
 "cells": [
  {
   "cell_type": "code",
   "execution_count": 3,
   "id": "addeb8f8-3d4a-4698-a1a5-cde43df94649",
   "metadata": {},
   "outputs": [
    {
     "data": {
      "text/plain": [
       "False"
      ]
     },
     "execution_count": 3,
     "metadata": {},
     "output_type": "execute_result"
    }
   ],
   "source": [
    "#Leetcode 232\n",
    "\n",
    "class listStack:\n",
    "    def __init__(self):\n",
    "        self.__stack=[]\n",
    "\n",
    "    def push(self, x):\n",
    "        self.__stack.append(x)\n",
    "\n",
    "    def pop(self):\n",
    "        self.__stack.pop()\n",
    "\n",
    "    def isEmpty(self) :\n",
    "        return not bool(self.__stack)\n",
    "\n",
    "    def top(self):\n",
    "        if self.isEmpty() :\n",
    "            return None\n",
    "        else:\n",
    "            return self.__stack[-1]\n",
    "            \n",
    "    def bottom(self):\n",
    "        if self.isEmpty():\n",
    "            return None\n",
    "        else:\n",
    "            return self.__stack[0]\n",
    "\n",
    "\n",
    "class MyQueue:\n",
    "\n",
    "    def __init__(self):\n",
    "        self.s1=listStack()\n",
    "        self.s2=listStack()\n",
    "        \n",
    "\n",
    "    def enqueue(self, x):\n",
    "        self.s1.push(x)\n",
    "        \n",
    "\n",
    "    def dequeue(self):\n",
    "        while not self.s1.isEmpty() :\n",
    "            self.s2.push(self.s1.pop())\n",
    "            \n",
    "        self.s2.pop()\n",
    "        \n",
    "        while not self.s2.isEmpty() :\n",
    "            self.s1.push(self.s2.pop())\n",
    "\n",
    "    def front(self):\n",
    "        if self.s1.isEmpty():\n",
    "            return None\n",
    "        else:\n",
    "            return self.s1.bottom()\n",
    "        \n",
    "\n",
    "    def isEmpty(self):\n",
    "        return not bool(self.s1)\n",
    "        \n",
    "\n",
    "\n",
    "queue=MyQueue()\n",
    "queue.enqueue(1)\n",
    "queue.enqueue(2)\n",
    "queue.front()\n",
    "queue.dequeue()\n",
    "queue.isEmpty()"
   ]
  }
 ],
 "metadata": {
  "kernelspec": {
   "display_name": "Python 3 (ipykernel)",
   "language": "python",
   "name": "python3"
  },
  "language_info": {
   "codemirror_mode": {
    "name": "ipython",
    "version": 3
   },
   "file_extension": ".py",
   "mimetype": "text/x-python",
   "name": "python",
   "nbconvert_exporter": "python",
   "pygments_lexer": "ipython3",
   "version": "3.12.7"
  }
 },
 "nbformat": 4,
 "nbformat_minor": 5
}
